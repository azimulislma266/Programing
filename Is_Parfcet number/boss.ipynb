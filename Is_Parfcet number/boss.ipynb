{
 "cells": [
  {
   "cell_type": "code",
   "execution_count": 36,
   "source": [
    "\r\n",
    "      \r\n",
    "def Gononeyo_Number(x):\r\n",
    "    Gononeyo = []\r\n",
    "    for Number in range(1,x):\r\n",
    "        if x%Number==0:\r\n",
    "           Gononeyo.append(Number)\r\n",
    "    sum = 0\r\n",
    "    for Gononeyo_p in Gononeyo:\r\n",
    "        sum = sum+Gononeyo_p\r\n",
    "        if sum == x :\r\n",
    "            sum = x \r\n",
    "            return sum\r\n",
    "        \r\n",
    "        \r\n",
    "def newF (x):\r\n",
    "    Isparfacet = Gononeyo_Number(x)\r\n",
    "    \r\n",
    "    f = int(Isparfacet)\r\n",
    "    \r\n",
    "    for i in  range(x):\r\n",
    "        if f <= x:\r\n",
    "            f = 6\r\n",
    "            return f\r\n",
    "        elif f <= x:\r\n",
    "            f = 2\r\n",
    "            return f\r\n",
    "        elif f <= x:\r\n",
    "             f = 3\r\n",
    "             return f\r\n",
    "            \r\n",
    "     \r\n",
    "        \r\n",
    "                  \r\n",
    " \r\n",
    "    \r\n",
    "y = int(input('Enter a number'))\r\n",
    "\r\n",
    "\r\n",
    "# Gononeyo_Number(y)\r\n",
    " \r\n",
    " \r\n",
    "newF(y)         "
   ],
   "outputs": [
    {
     "output_type": "execute_result",
     "data": {
      "text/plain": [
       "6"
      ]
     },
     "metadata": {},
     "execution_count": 36
    }
   ],
   "metadata": {}
  },
  {
   "cell_type": "code",
   "execution_count": null,
   "source": [
    "data = [1,2,3,4]\r\n",
    "\r\n",
    "if data ==2:\r\n",
    "    print('T')\r\n",
    "\r\n",
    "else:\r\n",
    "    print('F')    \r\n"
   ],
   "outputs": [],
   "metadata": {}
  },
  {
   "cell_type": "code",
   "execution_count": null,
   "source": [
    "\r\n",
    "\r\n",
    "mylist = [503 , 5220, 10 ]\r\n",
    "\r\n",
    "for i in mylist:\r\n",
    "    print(i)"
   ],
   "outputs": [],
   "metadata": {}
  },
  {
   "cell_type": "code",
   "execution_count": null,
   "source": [],
   "outputs": [],
   "metadata": {}
  }
 ],
 "metadata": {
  "orig_nbformat": 4,
  "language_info": {
   "name": "python",
   "version": "3.8.8",
   "mimetype": "text/x-python",
   "codemirror_mode": {
    "name": "ipython",
    "version": 3
   },
   "pygments_lexer": "ipython3",
   "nbconvert_exporter": "python",
   "file_extension": ".py"
  },
  "kernelspec": {
   "name": "python3",
   "display_name": "Python 3.8.8 64-bit ('base': conda)"
  },
  "interpreter": {
   "hash": "6070b739bda494cd05c55c4dd1fefe4bc7f51a70f6d608882e1910222e9cc2a3"
  }
 },
 "nbformat": 4,
 "nbformat_minor": 2
}