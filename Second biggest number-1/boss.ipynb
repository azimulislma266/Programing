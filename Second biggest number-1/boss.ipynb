{
 "cells": [
  {
   "cell_type": "code",
   "execution_count": 1,
   "source": [
    "list2 = [10, 20, 4, 45, 99]\r\n",
    "\r\n",
    "mx = max(list2[0],list2[1]) # mix ar kaj hocce list[] index ar  sob tahke boro shonkha ta ber kore deba\r\n",
    "\r\n",
    "Secondmax = min(list2[0],list2[1]) # min ar kaj hocce sob take choto sonka ta ber kore deba\r\n",
    "n = len(list2)\r\n",
    "for i in range(2,n):\r\n",
    "    if list2[i]>mx:\r\n",
    "        Secondmax = mx\r\n",
    "        print(Secondmax)\r\n",
    "        Mx=list2[i]       \r\n",
    "    elif list2[i]>Secondmax and \\\r\n",
    "        max != list2[i]:\r\n",
    "            Secondmax = list2[1]                   \r\n",
    "print(\"Second highest number is : \",\\\r\n",
    "str(Secondmax))\r\n",
    "         \r\n",
    "\r\n"
   ],
   "outputs": [
    {
     "output_type": "stream",
     "name": "stdout",
     "text": [
      "20\n",
      "20\n",
      "Second highest number is :  20\n"
     ]
    }
   ],
   "metadata": {}
  },
  {
   "cell_type": "code",
   "execution_count": 5,
   "source": [
    " # Python program to find largest\r\n",
    "# number in a list\r\n",
    "\r\n",
    "# list of numbers\r\n",
    "\r\n",
    "\r\n",
    "x = input('Enter a number').split()\r\n",
    "list1=[]\r\n",
    "for i in x:\r\n",
    "    print(len(i))\r\n",
    "    list1.append(i)\r\n",
    "    list1.sort()\r\n",
    "   \r\n",
    "print(\"Second largest element is:\",list1[:-2])\r\n",
    "     "
   ],
   "outputs": [
    {
     "output_type": "stream",
     "name": "stdout",
     "text": [
      "2\n",
      "2\n",
      "2\n",
      "Second largest element is: ['50']\n"
     ]
    }
   ],
   "metadata": {}
  },
  {
   "cell_type": "code",
   "execution_count": 7,
   "source": [
    "\r\n",
    "# Python program to find second largest\r\n",
    "# number in a list\r\n",
    "\r\n",
    "# list of numbers\r\n",
    "list1 = [10, 20, 4, 45, 99]\r\n",
    "\r\n",
    "# new_list is a set of list1\r\n",
    "new_list = set(list1)\r\n",
    "\r\n",
    "print(new_list)\r\n",
    "\r\n",
    "# removing the largest element from temp list\r\n",
    "new_list.remove(max(new_list))\r\n",
    "print(new_list)\r\n",
    "\r\n",
    "# # elements in original list are not changed\r\n",
    "# # print(list1)\r\n",
    "\r\n",
    "# print(max(new_list))\r\n"
   ],
   "outputs": [
    {
     "output_type": "stream",
     "name": "stdout",
     "text": [
      "{99, 4, 10, 45, 20}\n",
      "{4, 10, 45, 20}\n"
     ]
    }
   ],
   "metadata": {}
  },
  {
   "cell_type": "code",
   "execution_count": null,
   "source": [
    "# Python program to find second largest\r\n",
    "# number in a list\r\n",
    "\r\n",
    "# creating empty list\r\n",
    "list1 = []\r\n",
    "\r\n",
    "# asking number of elements to put in list\r\n",
    "num = int(input(\"Enter number of elements in list: \"))\r\n",
    "\r\n",
    "# iterating till num to append elements in list\r\n",
    "for i in range(1, num + 1):\r\n",
    "\tele = int(input(\"Enter elements: \"))\r\n",
    "\tlist1.append(ele)\r\n",
    "\r\n",
    "'''\r\n",
    "# sort the list\r\n",
    "list1.sort()\r\n",
    "\t\r\n",
    "# print second maximum element\r\n",
    "print(\"Second largest element is:\", list1[-2])\r\n",
    "\r\n",
    "'''\r\n",
    "\r\n",
    "# print second maximum element using sorted() method\r\n",
    "print(\"Second largest element is:\", sorted(list1)[-2])\r\n"
   ],
   "outputs": [],
   "metadata": {}
  },
  {
   "cell_type": "code",
   "execution_count": null,
   "source": [],
   "outputs": [],
   "metadata": {}
  }
 ],
 "metadata": {
  "orig_nbformat": 4,
  "language_info": {
   "name": "python",
   "version": "3.8.8",
   "mimetype": "text/x-python",
   "codemirror_mode": {
    "name": "ipython",
    "version": 3
   },
   "pygments_lexer": "ipython3",
   "nbconvert_exporter": "python",
   "file_extension": ".py"
  },
  "kernelspec": {
   "name": "python3",
   "display_name": "Python 3.8.8 64-bit ('base': conda)"
  },
  "interpreter": {
   "hash": "6070b739bda494cd05c55c4dd1fefe4bc7f51a70f6d608882e1910222e9cc2a3"
  }
 },
 "nbformat": 4,
 "nbformat_minor": 2
}